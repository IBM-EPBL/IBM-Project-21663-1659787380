{
  "nbformat": 4,
  "nbformat_minor": 0,
  "metadata": {
    "colab": {
      "provenance": [],
      "collapsed_sections": []
    },
    "kernelspec": {
      "name": "python3",
      "display_name": "Python 3"
    },
    "language_info": {
      "name": "python"
    }
  },
  "cells": [
    {
      "cell_type": "markdown",
      "source": [
        "**Importing the ImageDataGenerator Library**"
      ],
      "metadata": {
        "id": "uTwVdA5FAfXT"
      }
    },
    {
      "cell_type": "markdown",
      "source": [
        "Import keras library"
      ],
      "metadata": {
        "id": "ARxBVsmsAuWc"
      }
    },
    {
      "cell_type": "code",
      "execution_count": null,
      "metadata": {
        "id": "waOoy7WL_Rn_"
      },
      "outputs": [],
      "source": [
        "import keras"
      ]
    },
    {
      "cell_type": "markdown",
      "source": [
        "Import ImageDataGenerator class from keras"
      ],
      "metadata": {
        "id": "ckAYHxwzA0Ip"
      }
    },
    {
      "cell_type": "code",
      "source": [
        "from keras.preprocessing.image import ImageDataGenerator"
      ],
      "metadata": {
        "id": "Q8NtgqHHBepN"
      },
      "execution_count": null,
      "outputs": []
    },
    {
      "cell_type": "markdown",
      "source": [
        "**Define the Parameters/Arguments for ImageDataGenerator Class**"
      ],
      "metadata": {
        "id": "p7vNC7c2CGr1"
      }
    },
    {
      "cell_type": "code",
      "source": [
        "train_datagen = ImageDataGenerator(rescale=1./255, shear_range=0.2, rotation_range=180, zoom_range=0.2, horizontal_flip=True)"
      ],
      "metadata": {
        "id": "s9LSl-p4CXoY"
      },
      "execution_count": null,
      "outputs": []
    },
    {
      "cell_type": "code",
      "source": [
        "test_datagen = ImageDataGenerator(rescale=1./255)"
      ],
      "metadata": {
        "id": "1kjLysdyC9tO"
      },
      "execution_count": null,
      "outputs": []
    },
    {
      "cell_type": "markdown",
      "source": [
        "**Testset**"
      ],
      "metadata": {
        "id": "4yjXM7ubDPVr"
      }
    },
    {
      "cell_type": "markdown",
      "source": [
        "Applying ImageDataGenerator functionality to trainset"
      ],
      "metadata": {
        "id": "dPW9V-5cDV6b"
      }
    },
    {
      "cell_type": "code",
      "source": [
        "x_train = train_datagen.flow_from_directory(r'./Main Project/Dataset Main/train_set', target_size=(128,128), batch_size=32, class_mode='binary')"
      ],
      "metadata": {
        "id": "X9aUCRPmDlHB"
      },
      "execution_count": null,
      "outputs": []
    },
    {
      "cell_type": "markdown",
      "source": [
        "Applying ImageDataGenerator functionality to testset"
      ],
      "metadata": {
        "id": "ePzQfV08EPzH"
      }
    },
    {
      "cell_type": "code",
      "source": [
        "x_test = test_datagen.flow_from_directory(r'./Main Project/Dataset Main/test_set', target_size=(128,128), batch_size=32, class_mode='binary')"
      ],
      "metadata": {
        "id": "FgED8I_QEScP"
      },
      "execution_count": null,
      "outputs": []
    }
  ]
}