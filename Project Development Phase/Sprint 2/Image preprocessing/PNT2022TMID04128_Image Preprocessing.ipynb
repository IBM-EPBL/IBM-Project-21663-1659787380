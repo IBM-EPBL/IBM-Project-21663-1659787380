{
  "nbformat": 4,
  "nbformat_minor": 0,
  "metadata": {
    "colab": {
      "provenance": [],
      "collapsed_sections": []
    },
    "kernelspec": {
      "name": "python3",
      "display_name": "Python 3"
    },
    "language_info": {
      "name": "python"
    }
  },
  "cells": [
    {
      "cell_type": "code",
      "execution_count": null,
      "metadata": {
        "id": "hMc07l8kQWk3"
      },
      "outputs": [],
      "source": [
        "# import keras Library\n",
        "import keras# import ImageDataGenerator class from keras\n",
        "from keras.preprocessing.image import ImageDataGenerator"
      ]
    },
    {
      "cell_type": "code",
      "source": [
        "# Define the parameters/arguments for ImageDataGenerator class\n",
        "train_datagen = ImageDataGenerator(rescale=1./255,shear_range=0.2,zoom_range=0.2,horizontal_flip=True)\n",
        "test_datagen = ImageDataGenerator(rescale=1./255)"
      ],
      "metadata": {
        "id": "2szutul70lIX"
      },
      "execution_count": null,
      "outputs": []
    },
    {
      "cell_type": "code",
      "source": [
        "x_train = train_datagen.flow_from_directory(r\"/content/drive/MyDrive/Data Collection/training\",target_size=(64,64),batch_size=32, color_mode=\"rgb\",class_mode=\"sparse\") "
      ],
      "metadata": {
        "colab": {
          "base_uri": "https://localhost:8080/"
        },
        "id": "BfE3HCN9DTEl",
        "outputId": "09952d5f-b511-4fa9-a699-758bd00336bd"
      },
      "execution_count": null,
      "outputs": [
        {
          "output_type": "stream",
          "name": "stdout",
          "text": [
            "Found 436 images belonging to 2 classes.\n"
          ]
        }
      ]
    },
    {
      "cell_type": "code",
      "source": [
        "x_test = test_datagen.flow_from_directory(r\"/content/drive/MyDrive/Data Collection/testing\",target_size=(64,64),batch_size=32, color_mode=\"rgb\",class_mode=\"sparse\") "
      ],
      "metadata": {
        "colab": {
          "base_uri": "https://localhost:8080/"
        },
        "id": "8p6LVCjCDbEk",
        "outputId": "5e55731e-4f80-4596-ab12-174de530f0be"
      },
      "execution_count": null,
      "outputs": [
        {
          "output_type": "stream",
          "name": "stdout",
          "text": [
            "Found 121 images belonging to 2 classes.\n"
          ]
        }
      ]
    },
    {
      "cell_type": "code",
      "source": [],
      "metadata": {
        "id": "kNafuRx6Txf6"
      },
      "execution_count": null,
      "outputs": []
    }
  ]
}