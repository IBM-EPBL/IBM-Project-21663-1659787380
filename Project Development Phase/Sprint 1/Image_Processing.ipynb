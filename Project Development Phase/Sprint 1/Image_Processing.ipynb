{
  "nbformat": 4,
  "nbformat_minor": 0,
  "metadata": {
    "colab": {
      "provenance": []
    },
    "kernelspec": {
      "name": "python3",
      "display_name": "Python 3"
    },
    "language_info": {
      "name": "python"
    }
  },
  "cells": [
    {
      "cell_type": "markdown",
      "source": [
        "## **IMAGE PREPROCESSING**"
      ],
      "metadata": {
        "id": "v_K5GEG4lGKA"
      }
    },
    {
      "cell_type": "markdown",
      "source": [
        "Image Pre-processing includes the following main tasks\n",
        "\n",
        "\n",
        "1. Import ImageDataGenerator Library.\n",
        "\n",
        "2. Configure ImageDataGenerator Class.\n",
        "\n",
        "3. Applying ImageDataGenerator functionality to the trainset and test set."
      ],
      "metadata": {
        "id": "U_TDF8jLkulB"
      }
    },
    {
      "cell_type": "markdown",
      "source": [
        "##Importing The ImageDataGenerator Library"
      ],
      "metadata": {
        "id": "acC0GLZPlR3M"
      }
    },
    {
      "cell_type": "code",
      "execution_count": 1,
      "metadata": {
        "id": "76QUWOP3klvP"
      },
      "outputs": [],
      "source": [
        "import tensorflow\n",
        "from tensorflow import keras\n",
        "from tensorflow.keras.preprocessing.image import ImageDataGenerator"
      ]
    },
    {
      "cell_type": "markdown",
      "source": [
        "##Define The Parameters /Arguments For ImageDataGenerator Class"
      ],
      "metadata": {
        "id": "9wTy3SkqlY8V"
      }
    },
    {
      "cell_type": "markdown",
      "source": [
        "The ImageDataGenerator transforms each image in the batch by a series of random translations.\n"
      ],
      "metadata": {
        "id": "bFs2X-RhlvA0"
      }
    },
    {
      "cell_type": "code",
      "source": [
        "\n",
        "train_datagen = ImageDataGenerator(rescale=1./255,\n",
        "                                   shear_range=0.2,\n",
        "                                   rotation_range=180,\n",
        "                                   zoom_range=0.2,\n",
        "                                   horizontal_flip=True)"
      ],
      "metadata": {
        "id": "r_x-mQCAlVbr"
      },
      "execution_count": 2,
      "outputs": []
    },
    {
      "cell_type": "code",
      "source": [
        "test_datagen = ImageDataGenerator(rescale=1./255)"
      ],
      "metadata": {
        "id": "VVC207ENlcel"
      },
      "execution_count": 3,
      "outputs": []
    },
    {
      "cell_type": "markdown",
      "source": [
        "##Applying ImageDataGenerator Functionality To Trainset And Testset"
      ],
      "metadata": {
        "id": "jixC0RczmOH8"
      }
    },
    {
      "cell_type": "code",
      "source": [
        "train = train_datagen.flow_from_directory('/content/drive/MyDrive/Datasets/Dataset/train_set',\n",
        "                                          target_size=(128,128),\n",
        "                                          batch_size=32,\n",
        "                                          class_mode='binary')"
      ],
      "metadata": {
        "colab": {
          "base_uri": "https://localhost:8080/"
        },
        "id": "ezNGvbRCleiU",
        "outputId": "a76e52c5-4330-43e6-ea89-a4502a7cc683"
      },
      "execution_count": 4,
      "outputs": [
        {
          "output_type": "stream",
          "name": "stdout",
          "text": [
            "Found 436 images belonging to 2 classes.\n"
          ]
        }
      ]
    },
    {
      "cell_type": "code",
      "source": [
        "test = train_datagen.flow_from_directory('/content/drive/MyDrive/Datasets/Dataset/test_set',\n",
        "                                          target_size=(128,128),\n",
        "                                          batch_size=32,\n",
        "                                          class_mode='binary')"
      ],
      "metadata": {
        "colab": {
          "base_uri": "https://localhost:8080/"
        },
        "id": "jIQOTRB7myhm",
        "outputId": "55ab4a53-97fd-4bc1-f039-f5cca742bf4a"
      },
      "execution_count": 5,
      "outputs": [
        {
          "output_type": "stream",
          "name": "stdout",
          "text": [
            "Found 121 images belonging to 2 classes.\n"
          ]
        }
      ]
    }
  ]
}